{
 "cells": [
  {
   "cell_type": "markdown",
   "id": "413f4c2a",
   "metadata": {},
   "source": [
    "# Introductory Task Sheet (solutions)"
   ]
  },
  {
   "cell_type": "markdown",
   "id": "26cce1af",
   "metadata": {},
   "source": [
    "<img width=80 src=\"https://media.giphy.com/media/KAq5w47R9rmTuvWOWa/giphy.gif\">\n",
    "\n",
    "<img width=150 src=\"Images/Assembler.png\">"
   ]
  },
  {
   "cell_type": "markdown",
   "id": "1eeef4db",
   "metadata": {},
   "source": [
    "# Important:\n",
    "\n",
    "- Comment your code explaining what each part does when you consider it.\n",
    "- We are asking about two types of problems. The first type are solved with code cells, and the second with markdown type cells (where the solution must be thought without executing code cells). This will be indicated in each problem.\n",
    "- Always respect the format of the solution and the instructions!"
   ]
  },
  {
   "cell_type": "markdown",
   "id": "9e90dfa2",
   "metadata": {},
   "source": [
    "# Recommendations:\n",
    "\n",
    "- There are as many ways to solve a problem as there are people in the world. Find yours!\n",
    "- Create as many variables as you want. They cost nothing and are worth it for the sake of clarity.\n",
    "- You can add cells if needed. \n",
    "- Remember that there are two types of cells: code and markdown. \n",
    "- Use both. Explanations never hurt.\n",
    "- There are several ways to approach the same problem. Try not to repeat your way of thinking. Explore different ways to achieve same results. \n",
    "- If different syntaxes lead to the same result, explore them. For example, if you use the print function, sometimes use f-strings, sometimes .format() and sometimes the syntax with %. Explore how each works.\n",
    "- Use internet in a smart way. Don't look at how to solve the problem in its entirety; it is better to learn methods that lead your logical reasoning to the solution.\n",
    "- Once you have a plan to address the problem, try breaking your code into manageable chunks.\n",
    "- Use `print()` and `type()` functions in the middle of your code to understand what your code is actually doing.\n",
    "- Use as many `print()` and `type()` as you consider until you understand the sintaxis."
   ]
  },
  {
   "cell_type": "markdown",
   "id": "92b04bae",
   "metadata": {},
   "source": [
    "***\n",
    "## Which number is bigger, $10^9$ or $9^{10}$?"
   ]
  },
  {
   "cell_type": "code",
   "execution_count": 1,
   "id": "84a311d0",
   "metadata": {},
   "outputs": [
    {
     "data": {
      "text/plain": [
       "True"
      ]
     },
     "execution_count": 1,
     "metadata": {},
     "output_type": "execute_result"
    }
   ],
   "source": [
    "# Type the code here:\n",
    "10 ** 9  < 9 ** 10"
   ]
  },
  {
   "cell_type": "markdown",
   "id": "2fc21aa0",
   "metadata": {},
   "source": [
    "## Variables\n",
    "\n",
    "Store in a variable the result of the division of two integer variables. What type of variable is this result?"
   ]
  },
  {
   "cell_type": "code",
   "execution_count": 3,
   "id": "ba518173",
   "metadata": {},
   "outputs": [
    {
     "name": "stdout",
     "output_type": "stream",
     "text": [
      "5.0 <class 'float'>\n"
     ]
    }
   ],
   "source": [
    "# Type the code here:\n",
    "a = 10\n",
    "b = 2\n",
    "c = a/b\n",
    "print(c,type(c))"
   ]
  },
  {
   "cell_type": "markdown",
   "id": "4f275752",
   "metadata": {},
   "source": [
    "## Rounding\n",
    "\n",
    "Let three numbers be `𝑎 = 5.5` , `𝑏 = 2.5` and `𝑐 = 𝑎 * 𝑏`.\n",
    "\n",
    "a. Enter these parameters as variables and print them rounded to an integer (int).\n",
    "\n",
    "b. Round `a` and `b` to an integer first, and then compute `c` as the product of `a` and `b` rounded.\n",
    "\n",
    "𝑐 . If you calculate `c` as the product of `a` and `b` (without rounding) and then round the result, what do you notice?"
   ]
  },
  {
   "cell_type": "code",
   "execution_count": 3,
   "id": "eadec871",
   "metadata": {},
   "outputs": [
    {
     "name": "stdout",
     "output_type": "stream",
     "text": [
      "If a = 5 and b = 2, then c = 10. However, if the rounding is performed after the multiplication, then c = a * b = 13\n"
     ]
    }
   ],
   "source": [
    "# Type the code here:\n",
    "a = 5.45\n",
    "b = 2.45\n",
    "c = a * b\n",
    "\n",
    "print(f'If a = {round(a)} and b = {round(b)}, then c = {round(a)*round(b)}. \\\n",
    "However, if the rounding is performed after the multiplication, then c = a * b = {round(c)}')"
   ]
  },
  {
   "cell_type": "markdown",
   "id": "f549eb0f",
   "metadata": {},
   "source": [
    "## Variable type\n",
    "\n",
    "What type of variable does Python return when applying `round(x,n)`? \n",
    "\n",
    "(where `x` is a float and `n` is the number of decimal places one wishes to round to)\n",
    "\n",
    "Is it the same for n = 0, i.e. when rounded to an integer number?"
   ]
  },
  {
   "cell_type": "code",
   "execution_count": 4,
   "id": "3f068ee2",
   "metadata": {},
   "outputs": [
    {
     "name": "stdout",
     "output_type": "stream",
     "text": [
      "3.6 <class 'float'>\n"
     ]
    }
   ],
   "source": [
    "# Type the code here:\n",
    "a = round(3.6,2)\n",
    "print(a, type(a))"
   ]
  },
  {
   "cell_type": "code",
   "execution_count": 5,
   "id": "49172f75",
   "metadata": {},
   "outputs": [
    {
     "data": {
      "text/plain": [
       "float"
      ]
     },
     "execution_count": 5,
     "metadata": {},
     "output_type": "execute_result"
    }
   ],
   "source": [
    "type(round(3.6,0))"
   ]
  },
  {
   "cell_type": "markdown",
   "id": "8575e573",
   "metadata": {},
   "source": [
    "## Compound interest\n",
    "\n",
    "Suppose a principal amount of €500 is deposited in a bank and left for 5 years with interest compounded at 2% per annum. How much money do I end up with? (work only with two decimals)\n",
    "\n",
    "[Compound interest](https://es.wikipedia.org/wiki/Inter%C3%A9s_compuesto)"
   ]
  },
  {
   "cell_type": "code",
   "execution_count": 6,
   "id": "bcc29833",
   "metadata": {},
   "outputs": [],
   "source": [
    "# Type the code here:\n",
    "money = 500\n",
    "interest = 2 / 100\n",
    "n_years = 5"
   ]
  },
  {
   "cell_type": "code",
   "execution_count": 7,
   "id": "4129f0c7",
   "metadata": {},
   "outputs": [],
   "source": [
    "final_amount_year_1 = money * (1 + interest)"
   ]
  },
  {
   "cell_type": "code",
   "execution_count": 8,
   "id": "82aa643b",
   "metadata": {},
   "outputs": [
    {
     "data": {
      "text/plain": [
       "510.0"
      ]
     },
     "execution_count": 8,
     "metadata": {},
     "output_type": "execute_result"
    }
   ],
   "source": [
    "final_amount_year_1"
   ]
  },
  {
   "cell_type": "code",
   "execution_count": 9,
   "id": "d5c9b1cf",
   "metadata": {},
   "outputs": [],
   "source": [
    "final_amount_year_2 = final_amount_year_1 * (1 + interest)"
   ]
  },
  {
   "cell_type": "code",
   "execution_count": 10,
   "id": "ca45a8a0",
   "metadata": {},
   "outputs": [
    {
     "data": {
      "text/plain": [
       "True"
      ]
     },
     "execution_count": 10,
     "metadata": {},
     "output_type": "execute_result"
    }
   ],
   "source": [
    "final_amount_year_2 == money * (1 + interest)**2"
   ]
  },
  {
   "cell_type": "code",
   "execution_count": 11,
   "id": "a78b68ca",
   "metadata": {},
   "outputs": [],
   "source": [
    "final_amount_year_5 = money * (1 + interest)**5"
   ]
  },
  {
   "cell_type": "code",
   "execution_count": 12,
   "id": "da58aeec",
   "metadata": {},
   "outputs": [
    {
     "data": {
      "text/plain": [
       "552.04"
      ]
     },
     "execution_count": 12,
     "metadata": {},
     "output_type": "execute_result"
    }
   ],
   "source": [
    "round(final_amount_year_5,2)"
   ]
  },
  {
   "cell_type": "markdown",
   "id": "b1e0567a",
   "metadata": {},
   "source": [
    "## Why not a simple square? \n",
    "Write a Python program that calculates the volume (in cubic meters) and the area (in square meters) of a sphere of any radius (in meters) entered as input. The output must be rounded to 2 digits for the volume and 3 for the area."
   ]
  },
  {
   "cell_type": "code",
   "execution_count": 13,
   "id": "1a268113",
   "metadata": {},
   "outputs": [
    {
     "name": "stdout",
     "output_type": "stream",
     "text": [
      "Enter the radius (in meters): 3\n",
      "The volume of a sphere of radius 3.0 m is 113.1 m³ and its area is 113.097 m²\n"
     ]
    }
   ],
   "source": [
    "# Type the code here:\n",
    "import math\n",
    "radius = float(input('Enter the radius (in meters): '))\n",
    "\n",
    "print(f'The volume of a sphere of radius {radius} m is {round(4/3*math.pi*radius**3, 2)} m\\u00b3 and \\\n",
    "its area is {round(4*math.pi*radius**2, 3)} m\\u00b2')"
   ]
  },
  {
   "cell_type": "markdown",
   "id": "00278986",
   "metadata": {},
   "source": [
    "## Try first to solve this without running code cells:\n",
    "\n",
    "- What value will you get from executing 5 > 5?"
   ]
  },
  {
   "cell_type": "markdown",
   "id": "27652d40",
   "metadata": {},
   "source": [
    "*Write the solution in this markdown cell:*\n",
    "\n",
    "\n",
    ".\n",
    "\n",
    "\n",
    "."
   ]
  },
  {
   "cell_type": "code",
   "execution_count": 14,
   "id": "ae1575ef",
   "metadata": {},
   "outputs": [
    {
     "data": {
      "text/plain": [
       "False"
      ]
     },
     "execution_count": 14,
     "metadata": {},
     "output_type": "execute_result"
    }
   ],
   "source": [
    "5>5"
   ]
  },
  {
   "cell_type": "markdown",
   "id": "ea7113f9",
   "metadata": {},
   "source": [
    "- and from executing 5 >= 5?"
   ]
  },
  {
   "cell_type": "markdown",
   "id": "9cf3e653",
   "metadata": {},
   "source": [
    "*Write the solution in this markdown cell:*\n",
    "\n",
    "\n",
    ".\n",
    "\n",
    "\n",
    "."
   ]
  },
  {
   "cell_type": "code",
   "execution_count": 15,
   "id": "36415c9c",
   "metadata": {},
   "outputs": [
    {
     "data": {
      "text/plain": [
       "True"
      ]
     },
     "execution_count": 15,
     "metadata": {},
     "output_type": "execute_result"
    }
   ],
   "source": [
    " 5 >= 5"
   ]
  },
  {
   "cell_type": "markdown",
   "id": "556956df",
   "metadata": {},
   "source": [
    "- Are operators == and != valid for strings?"
   ]
  },
  {
   "cell_type": "markdown",
   "id": "e3a2302e",
   "metadata": {},
   "source": [
    "*Write the solution in this markdown cell:*\n",
    "\n",
    "\n",
    ".\n",
    "\n",
    "\n",
    "."
   ]
  },
  {
   "cell_type": "code",
   "execution_count": 16,
   "id": "e07801b5",
   "metadata": {},
   "outputs": [
    {
     "data": {
      "text/plain": [
       "True"
      ]
     },
     "execution_count": 16,
     "metadata": {},
     "output_type": "execute_result"
    }
   ],
   "source": [
    "'Hola'=='Hola'"
   ]
  },
  {
   "cell_type": "markdown",
   "id": "6f83b02b",
   "metadata": {},
   "source": [
    "## Of quotients and remainders\n",
    "\n",
    "Write a program that asks the user for an integer and reports the value of the quotient and the remainder when divided by seven."
   ]
  },
  {
   "cell_type": "code",
   "execution_count": 17,
   "id": "3e689d17",
   "metadata": {
    "scrolled": true
   },
   "outputs": [
    {
     "name": "stdout",
     "output_type": "stream",
     "text": [
      "Introduce an integer: 149\n",
      "Quotient: 21\n",
      "Remainder: 2\n"
     ]
    }
   ],
   "source": [
    "# Type the code here:\n",
    "number = int(input('Introduce an integer: '))\n",
    "\n",
    "quotient = number // 7\n",
    "reminder = number % 7\n",
    "\n",
    "print(f\"Quotient: {quotient}\", f\"Remainder: {reminder}\", sep = '\\n')"
   ]
  },
  {
   "cell_type": "markdown",
   "id": "7e1aa3c0",
   "metadata": {},
   "source": [
    "## First steps on databases\n",
    "\n",
    "Make a Python program that prints on screen your data that will have been requested by keyboard:\n",
    "\n",
    "- Name(s)\n",
    "- Surname(s)\n",
    "- Age\n",
    "- Address\n",
    "- Mail\n",
    "\n",
    "Next, write a code that with the entered age computes the year of birth."
   ]
  },
  {
   "cell_type": "code",
   "execution_count": 18,
   "id": "bb8493cc",
   "metadata": {},
   "outputs": [
    {
     "name": "stdout",
     "output_type": "stream",
     "text": [
      "Introduce your name(s): Juan Bautista\n",
      "Introduce your surname(s): Vendramini\n",
      "Introduce your age (only numbers): 39\n",
      "Introduce your address: Rambla de Badal 1234, sótano 5to\n",
      "Introduce your mail: l.gabbanelli@assemblerschool.com\n",
      "\n",
      "We have the following information: \n",
      "Name: Juan Bautista\n",
      "Surname: Vendramini\n",
      "Age: 39\n",
      "Address: Rambla de Badal 1234, sótano 5to\n",
      "Mail: l.gabbanelli@assemblerschool.com\n"
     ]
    }
   ],
   "source": [
    "# Type the code here:\n",
    "name = input('Introduce your name(s): ')\n",
    "surname = input('Introduce your surname(s): ')\n",
    "age = int(input('Introduce your age (only numbers): '))\n",
    "address = input('Introduce your address: ')\n",
    "mail = input('Introduce your mail: ')\n",
    "\n",
    "print('')\n",
    "print('We have the following information: \\nName: {}\\nSurname: {}\\nAge: {}\\nAddress: {}\\nMail: {}'.format(name, surname, age, address, mail))"
   ]
  },
  {
   "cell_type": "code",
   "execution_count": 19,
   "id": "6a1eb255",
   "metadata": {},
   "outputs": [
    {
     "data": {
      "text/plain": [
       "39"
      ]
     },
     "execution_count": 19,
     "metadata": {},
     "output_type": "execute_result"
    }
   ],
   "source": [
    "age"
   ]
  },
  {
   "cell_type": "code",
   "execution_count": 20,
   "id": "f67b65fd",
   "metadata": {},
   "outputs": [
    {
     "name": "stdout",
     "output_type": "stream",
     "text": [
      "Juan Bautista Vendramini was born in 1983\n"
     ]
    }
   ],
   "source": [
    "print(f'{name} {surname} was born in {2022-age}' )"
   ]
  },
  {
   "cell_type": "markdown",
   "id": "e976e599",
   "metadata": {},
   "source": [
    "## IVA\n",
    "\n",
    "Write a program that queries a product and its price, and returns the value of the IVA.\n",
    "Show the data on the screen, taking into account that if the entered price has more than 3 decimal places, we want it to be rounded to exactly 2."
   ]
  },
  {
   "cell_type": "code",
   "execution_count": 5,
   "id": "c08c36b2",
   "metadata": {},
   "outputs": [
    {
     "name": "stdout",
     "output_type": "stream",
     "text": [
      "Introduce a product: Orange Juice\n",
      "and its price: 1.99\n",
      "The product introduced is Orange Juice and its price is 1.99 euros. Consequently, it IVA is of 0.42\n"
     ]
    }
   ],
   "source": [
    "# Type the code here:\n",
    "product = input('Introduce a product: ')\n",
    "price = float(input('and its price: '))\n",
    "\n",
    "print('The product introduced is %s and its price is %.2f euros. Consequently, it IVA is of %.2f'%(product, price, price*.21))"
   ]
  },
  {
   "cell_type": "markdown",
   "id": "242e5279",
   "metadata": {},
   "source": [
    "## Reverse a string!   🤨"
   ]
  },
  {
   "cell_type": "code",
   "execution_count": 22,
   "id": "f33ad165",
   "metadata": {},
   "outputs": [
    {
     "data": {
      "text/plain": [
       "'noiretsA'"
      ]
     },
     "execution_count": 22,
     "metadata": {},
     "output_type": "execute_result"
    }
   ],
   "source": [
    "# Type the code here:\n",
    "word = 'Asterion'\n",
    "word[::-1]"
   ]
  },
  {
   "cell_type": "markdown",
   "id": "6a8e3557",
   "metadata": {},
   "source": [
    "## Uppercase Half String  😮"
   ]
  },
  {
   "cell_type": "code",
   "execution_count": 24,
   "id": "13e2337a",
   "metadata": {},
   "outputs": [
    {
     "data": {
      "text/plain": [
       "'axoLOTL'"
      ]
     },
     "execution_count": 24,
     "metadata": {},
     "output_type": "execute_result"
    }
   ],
   "source": [
    "# Type the code here:\n",
    "word = 'Axolotl'\n",
    "hlf_idx = len(word) // 2\n",
    " \n",
    "# Making new string with half upper case\n",
    "# Using slicing\n",
    "# slicing takes one position less to ending position provided\n",
    "word[:hlf_idx].lower() + word[hlf_idx:].upper()"
   ]
  },
  {
   "cell_type": "markdown",
   "id": "f84ad3f5",
   "metadata": {},
   "source": [
    "## Domains\n",
    "\n",
    "In your company, colegues are studying the statistical distribution of mail's domains of clients. Save your email in a variable and create an algorithm that extracts the domain from it. Print it on screen."
   ]
  },
  {
   "cell_type": "code",
   "execution_count": 21,
   "id": "2bacffaf",
   "metadata": {},
   "outputs": [
    {
     "name": "stdout",
     "output_type": "stream",
     "text": [
      "assemblerschool\n"
     ]
    }
   ],
   "source": [
    "# Type the code here:\n",
    "mail = 'l.gabbanelli@assemblerschool.com'\n",
    "\n",
    "# 1 - split the email using @ as separator, \n",
    "# 2 - then take the second element of the list, i.e. 1, and split it by the point\n",
    "# 3 - finally, take the first element, i.e. 0\n",
    "print(mail.split('@')[1].split('.')[0])"
   ]
  }
 ],
 "metadata": {
  "kernelspec": {
   "display_name": "Python 3 (ipykernel)",
   "language": "python",
   "name": "python3"
  },
  "language_info": {
   "codemirror_mode": {
    "name": "ipython",
    "version": 3
   },
   "file_extension": ".py",
   "mimetype": "text/x-python",
   "name": "python",
   "nbconvert_exporter": "python",
   "pygments_lexer": "ipython3",
   "version": "3.9.12"
  },
  "toc": {
   "base_numbering": 1,
   "nav_menu": {},
   "number_sections": true,
   "sideBar": true,
   "skip_h1_title": true,
   "title_cell": "Table of Contents",
   "title_sidebar": "Contents",
   "toc_cell": false,
   "toc_position": {
    "height": "calc(100% - 180px)",
    "left": "10px",
    "top": "150px",
    "width": "206.841px"
   },
   "toc_section_display": true,
   "toc_window_display": true
  }
 },
 "nbformat": 4,
 "nbformat_minor": 5
}
